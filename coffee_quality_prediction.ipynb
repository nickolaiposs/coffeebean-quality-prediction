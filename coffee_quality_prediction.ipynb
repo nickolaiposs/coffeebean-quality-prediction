{
 "cells": [
  {
   "cell_type": "markdown",
   "id": "b8fc4d6a-4ffb-4b57-b25d-c7ef1b6af8f2",
   "metadata": {
    "tags": []
   },
   "source": [
    "# Coffee Bean Quality Prediction Analysis\n",
    "\n",
    "Dataset: https://www.kaggle.com/datasets/volpatto/coffee-quality-database-from-cqi"
   ]
  },
  {
   "cell_type": "markdown",
   "id": "5bbfde6d-c35a-4e8a-81b1-f93a4051eae6",
   "metadata": {
    "tags": []
   },
   "source": [
    "## Project Description and Objective\n",
    "\n",
    "The dataset is from the Coffee Quality Institute (CQI) and includes data from many different coffee beans along with eleven different tasting scores. Ten of them are different specific aspects of the coffee, such as aroma and acidity, all rated out of ten. The last category is the total taste score, which is the sum of all the other category scores, and is out of 100. The objective of this project is to create a model using the naive bayes classifier to determine if a cup of coffee will be good. \n",
    "\n",
    "For the sake of this project a cup of coffee is classified as good if it's total taste score is above average, and classified as bad otherwise.\n",
    "\n",
    "The last part of this project tests linear regression on this dataset. "
   ]
  },
  {
   "cell_type": "markdown",
   "id": "617009e4-e94e-4cde-a0e9-12ba50101e7c",
   "metadata": {
    "tags": []
   },
   "source": [
    "## Importing and Cleaning Up Data"
   ]
  },
  {
   "cell_type": "code",
   "execution_count": 20,
   "id": "3f95dced-8dce-4790-8f23-97ea25483252",
   "metadata": {},
   "outputs": [
    {
     "data": {
      "text/html": [
       "<div class=\"bk-root\">\n",
       "        <a href=\"https://bokeh.org\" target=\"_blank\" class=\"bk-logo bk-logo-small bk-logo-notebook\"></a>\n",
       "        <span id=\"1002\">Loading BokehJS ...</span>\n",
       "    </div>\n"
      ]
     },
     "metadata": {},
     "output_type": "display_data"
    },
    {
     "data": {
      "application/javascript": "(function(root) {\n  function now() {\n    return new Date();\n  }\n\n  const force = true;\n\n  if (typeof root._bokeh_onload_callbacks === \"undefined\" || force === true) {\n    root._bokeh_onload_callbacks = [];\n    root._bokeh_is_loading = undefined;\n  }\n\nconst JS_MIME_TYPE = 'application/javascript';\n  const HTML_MIME_TYPE = 'text/html';\n  const EXEC_MIME_TYPE = 'application/vnd.bokehjs_exec.v0+json';\n  const CLASS_NAME = 'output_bokeh rendered_html';\n\n  /**\n   * Render data to the DOM node\n   */\n  function render(props, node) {\n    const script = document.createElement(\"script\");\n    node.appendChild(script);\n  }\n\n  /**\n   * Handle when an output is cleared or removed\n   */\n  function handleClearOutput(event, handle) {\n    const cell = handle.cell;\n\n    const id = cell.output_area._bokeh_element_id;\n    const server_id = cell.output_area._bokeh_server_id;\n    // Clean up Bokeh references\n    if (id != null && id in Bokeh.index) {\n      Bokeh.index[id].model.document.clear();\n      delete Bokeh.index[id];\n    }\n\n    if (server_id !== undefined) {\n      // Clean up Bokeh references\n      const cmd_clean = \"from bokeh.io.state import curstate; print(curstate().uuid_to_server['\" + server_id + \"'].get_sessions()[0].document.roots[0]._id)\";\n      cell.notebook.kernel.execute(cmd_clean, {\n        iopub: {\n          output: function(msg) {\n            const id = msg.content.text.trim();\n            if (id in Bokeh.index) {\n              Bokeh.index[id].model.document.clear();\n              delete Bokeh.index[id];\n            }\n          }\n        }\n      });\n      // Destroy server and session\n      const cmd_destroy = \"import bokeh.io.notebook as ion; ion.destroy_server('\" + server_id + \"')\";\n      cell.notebook.kernel.execute(cmd_destroy);\n    }\n  }\n\n  /**\n   * Handle when a new output is added\n   */\n  function handleAddOutput(event, handle) {\n    const output_area = handle.output_area;\n    const output = handle.output;\n\n    // limit handleAddOutput to display_data with EXEC_MIME_TYPE content only\n    if ((output.output_type != \"display_data\") || (!Object.prototype.hasOwnProperty.call(output.data, EXEC_MIME_TYPE))) {\n      return\n    }\n\n    const toinsert = output_area.element.find(\".\" + CLASS_NAME.split(' ')[0]);\n\n    if (output.metadata[EXEC_MIME_TYPE][\"id\"] !== undefined) {\n      toinsert[toinsert.length - 1].firstChild.textContent = output.data[JS_MIME_TYPE];\n      // store reference to embed id on output_area\n      output_area._bokeh_element_id = output.metadata[EXEC_MIME_TYPE][\"id\"];\n    }\n    if (output.metadata[EXEC_MIME_TYPE][\"server_id\"] !== undefined) {\n      const bk_div = document.createElement(\"div\");\n      bk_div.innerHTML = output.data[HTML_MIME_TYPE];\n      const script_attrs = bk_div.children[0].attributes;\n      for (let i = 0; i < script_attrs.length; i++) {\n        toinsert[toinsert.length - 1].firstChild.setAttribute(script_attrs[i].name, script_attrs[i].value);\n        toinsert[toinsert.length - 1].firstChild.textContent = bk_div.children[0].textContent\n      }\n      // store reference to server id on output_area\n      output_area._bokeh_server_id = output.metadata[EXEC_MIME_TYPE][\"server_id\"];\n    }\n  }\n\n  function register_renderer(events, OutputArea) {\n\n    function append_mime(data, metadata, element) {\n      // create a DOM node to render to\n      const toinsert = this.create_output_subarea(\n        metadata,\n        CLASS_NAME,\n        EXEC_MIME_TYPE\n      );\n      this.keyboard_manager.register_events(toinsert);\n      // Render to node\n      const props = {data: data, metadata: metadata[EXEC_MIME_TYPE]};\n      render(props, toinsert[toinsert.length - 1]);\n      element.append(toinsert);\n      return toinsert\n    }\n\n    /* Handle when an output is cleared or removed */\n    events.on('clear_output.CodeCell', handleClearOutput);\n    events.on('delete.Cell', handleClearOutput);\n\n    /* Handle when a new output is added */\n    events.on('output_added.OutputArea', handleAddOutput);\n\n    /**\n     * Register the mime type and append_mime function with output_area\n     */\n    OutputArea.prototype.register_mime_type(EXEC_MIME_TYPE, append_mime, {\n      /* Is output safe? */\n      safe: true,\n      /* Index of renderer in `output_area.display_order` */\n      index: 0\n    });\n  }\n\n  // register the mime type if in Jupyter Notebook environment and previously unregistered\n  if (root.Jupyter !== undefined) {\n    const events = require('base/js/events');\n    const OutputArea = require('notebook/js/outputarea').OutputArea;\n\n    if (OutputArea.prototype.mime_types().indexOf(EXEC_MIME_TYPE) == -1) {\n      register_renderer(events, OutputArea);\n    }\n  }\n  if (typeof (root._bokeh_timeout) === \"undefined\" || force === true) {\n    root._bokeh_timeout = Date.now() + 5000;\n    root._bokeh_failed_load = false;\n  }\n\n  const NB_LOAD_WARNING = {'data': {'text/html':\n     \"<div style='background-color: #fdd'>\\n\"+\n     \"<p>\\n\"+\n     \"BokehJS does not appear to have successfully loaded. If loading BokehJS from CDN, this \\n\"+\n     \"may be due to a slow or bad network connection. Possible fixes:\\n\"+\n     \"</p>\\n\"+\n     \"<ul>\\n\"+\n     \"<li>re-rerun `output_notebook()` to attempt to load from CDN again, or</li>\\n\"+\n     \"<li>use INLINE resources instead, as so:</li>\\n\"+\n     \"</ul>\\n\"+\n     \"<code>\\n\"+\n     \"from bokeh.resources import INLINE\\n\"+\n     \"output_notebook(resources=INLINE)\\n\"+\n     \"</code>\\n\"+\n     \"</div>\"}};\n\n  function display_loaded() {\n    const el = document.getElementById(\"1002\");\n    if (el != null) {\n      el.textContent = \"BokehJS is loading...\";\n    }\n    if (root.Bokeh !== undefined) {\n      if (el != null) {\n        el.textContent = \"BokehJS \" + root.Bokeh.version + \" successfully loaded.\";\n      }\n    } else if (Date.now() < root._bokeh_timeout) {\n      setTimeout(display_loaded, 100)\n    }\n  }\n\n  function run_callbacks() {\n    try {\n      root._bokeh_onload_callbacks.forEach(function(callback) {\n        if (callback != null)\n          callback();\n      });\n    } finally {\n      delete root._bokeh_onload_callbacks\n    }\n    console.debug(\"Bokeh: all callbacks have finished\");\n  }\n\n  function load_libs(css_urls, js_urls, callback) {\n    if (css_urls == null) css_urls = [];\n    if (js_urls == null) js_urls = [];\n\n    root._bokeh_onload_callbacks.push(callback);\n    if (root._bokeh_is_loading > 0) {\n      console.debug(\"Bokeh: BokehJS is being loaded, scheduling callback at\", now());\n      return null;\n    }\n    if (js_urls == null || js_urls.length === 0) {\n      run_callbacks();\n      return null;\n    }\n    console.debug(\"Bokeh: BokehJS not loaded, scheduling load and callback at\", now());\n    root._bokeh_is_loading = css_urls.length + js_urls.length;\n\n    function on_load() {\n      root._bokeh_is_loading--;\n      if (root._bokeh_is_loading === 0) {\n        console.debug(\"Bokeh: all BokehJS libraries/stylesheets loaded\");\n        run_callbacks()\n      }\n    }\n\n    function on_error(url) {\n      console.error(\"failed to load \" + url);\n    }\n\n    for (let i = 0; i < css_urls.length; i++) {\n      const url = css_urls[i];\n      const element = document.createElement(\"link\");\n      element.onload = on_load;\n      element.onerror = on_error.bind(null, url);\n      element.rel = \"stylesheet\";\n      element.type = \"text/css\";\n      element.href = url;\n      console.debug(\"Bokeh: injecting link tag for BokehJS stylesheet: \", url);\n      document.body.appendChild(element);\n    }\n\n    for (let i = 0; i < js_urls.length; i++) {\n      const url = js_urls[i];\n      const element = document.createElement('script');\n      element.onload = on_load;\n      element.onerror = on_error.bind(null, url);\n      element.async = false;\n      element.src = url;\n      console.debug(\"Bokeh: injecting script tag for BokehJS library: \", url);\n      document.head.appendChild(element);\n    }\n  };\n\n  function inject_raw_css(css) {\n    const element = document.createElement(\"style\");\n    element.appendChild(document.createTextNode(css));\n    document.body.appendChild(element);\n  }\n\n  const js_urls = [\"https://cdn.bokeh.org/bokeh/release/bokeh-2.4.3.min.js\", \"https://cdn.bokeh.org/bokeh/release/bokeh-gl-2.4.3.min.js\", \"https://cdn.bokeh.org/bokeh/release/bokeh-widgets-2.4.3.min.js\", \"https://cdn.bokeh.org/bokeh/release/bokeh-tables-2.4.3.min.js\", \"https://cdn.bokeh.org/bokeh/release/bokeh-mathjax-2.4.3.min.js\"];\n  const css_urls = [];\n\n  const inline_js = [    function(Bokeh) {\n      Bokeh.set_log_level(\"info\");\n    },\nfunction(Bokeh) {\n    }\n  ];\n\n  function run_inline_js() {\n    if (root.Bokeh !== undefined || force === true) {\n          for (let i = 0; i < inline_js.length; i++) {\n      inline_js[i].call(root, root.Bokeh);\n    }\nif (force === true) {\n        display_loaded();\n      }} else if (Date.now() < root._bokeh_timeout) {\n      setTimeout(run_inline_js, 100);\n    } else if (!root._bokeh_failed_load) {\n      console.log(\"Bokeh: BokehJS failed to load within specified timeout.\");\n      root._bokeh_failed_load = true;\n    } else if (force !== true) {\n      const cell = $(document.getElementById(\"1002\")).parents('.cell').data().cell;\n      cell.output_area.append_execute_result(NB_LOAD_WARNING)\n    }\n  }\n\n  if (root._bokeh_is_loading === 0) {\n    console.debug(\"Bokeh: BokehJS loaded, going straight to plotting\");\n    run_inline_js();\n  } else {\n    load_libs(css_urls, js_urls, function() {\n      console.debug(\"Bokeh: BokehJS plotting callback run at\", now());\n      run_inline_js();\n    });\n  }\n}(window));",
      "application/vnd.bokehjs_load.v0+json": ""
     },
     "metadata": {},
     "output_type": "display_data"
    }
   ],
   "source": [
    "import matplotlib.pyplot as plt\n",
    "import numpy as np\n",
    "import pandas as pd\n",
    "import seaborn as sns\n",
    "\n",
    "from bokeh.plotting import figure\n",
    "from bokeh.io import show, output_notebook\n",
    "output_notebook()"
   ]
  },
  {
   "cell_type": "markdown",
   "id": "0360861f-af1c-4fd5-a947-c384db92398d",
   "metadata": {},
   "source": [
    "There are many different columns in the dataset, many of which are only relevant to the CQI. The only ones of interest for this project are:\n",
    "\n",
    "    - Species\n",
    "    - Country of Origin\n",
    "    - Variety\n",
    "    - Processing Method\n",
    "    - Total Taste Score\n",
    "    - Unit of Measurement (to see if it was measured in meters or feet)\n",
    "    - Mean Altitude"
   ]
  },
  {
   "cell_type": "markdown",
   "id": "94e1dbe7-86e6-445d-ae16-e76334221d33",
   "metadata": {},
   "source": [
    "I used pandas library in order to read and manipulate the data."
   ]
  },
  {
   "cell_type": "code",
   "execution_count": 2,
   "id": "8cc0eebd-94af-464e-8291-d03820e463de",
   "metadata": {},
   "outputs": [
    {
     "data": {
      "text/html": [
       "<div>\n",
       "<style scoped>\n",
       "    .dataframe tbody tr th:only-of-type {\n",
       "        vertical-align: middle;\n",
       "    }\n",
       "\n",
       "    .dataframe tbody tr th {\n",
       "        vertical-align: top;\n",
       "    }\n",
       "\n",
       "    .dataframe thead th {\n",
       "        text-align: right;\n",
       "    }\n",
       "</style>\n",
       "<table border=\"1\" class=\"dataframe\">\n",
       "  <thead>\n",
       "    <tr style=\"text-align: right;\">\n",
       "      <th></th>\n",
       "      <th>Species</th>\n",
       "      <th>Country.of.Origin</th>\n",
       "      <th>Variety</th>\n",
       "      <th>Processing.Method</th>\n",
       "      <th>Total.Cup.Points</th>\n",
       "      <th>unit_of_measurement</th>\n",
       "      <th>altitude_mean_meters</th>\n",
       "    </tr>\n",
       "  </thead>\n",
       "  <tbody>\n",
       "    <tr>\n",
       "      <th>0</th>\n",
       "      <td>Arabica</td>\n",
       "      <td>Ethiopia</td>\n",
       "      <td>NaN</td>\n",
       "      <td>Washed / Wet</td>\n",
       "      <td>90.58</td>\n",
       "      <td>m</td>\n",
       "      <td>2075.0</td>\n",
       "    </tr>\n",
       "    <tr>\n",
       "      <th>1</th>\n",
       "      <td>Arabica</td>\n",
       "      <td>Ethiopia</td>\n",
       "      <td>Other</td>\n",
       "      <td>Washed / Wet</td>\n",
       "      <td>89.92</td>\n",
       "      <td>m</td>\n",
       "      <td>2075.0</td>\n",
       "    </tr>\n",
       "    <tr>\n",
       "      <th>2</th>\n",
       "      <td>Arabica</td>\n",
       "      <td>Guatemala</td>\n",
       "      <td>Bourbon</td>\n",
       "      <td>NaN</td>\n",
       "      <td>89.75</td>\n",
       "      <td>m</td>\n",
       "      <td>1700.0</td>\n",
       "    </tr>\n",
       "    <tr>\n",
       "      <th>3</th>\n",
       "      <td>Arabica</td>\n",
       "      <td>Ethiopia</td>\n",
       "      <td>NaN</td>\n",
       "      <td>Natural / Dry</td>\n",
       "      <td>89.00</td>\n",
       "      <td>m</td>\n",
       "      <td>2000.0</td>\n",
       "    </tr>\n",
       "    <tr>\n",
       "      <th>4</th>\n",
       "      <td>Arabica</td>\n",
       "      <td>Ethiopia</td>\n",
       "      <td>Other</td>\n",
       "      <td>Washed / Wet</td>\n",
       "      <td>88.83</td>\n",
       "      <td>m</td>\n",
       "      <td>2075.0</td>\n",
       "    </tr>\n",
       "    <tr>\n",
       "      <th>...</th>\n",
       "      <td>...</td>\n",
       "      <td>...</td>\n",
       "      <td>...</td>\n",
       "      <td>...</td>\n",
       "      <td>...</td>\n",
       "      <td>...</td>\n",
       "      <td>...</td>\n",
       "    </tr>\n",
       "    <tr>\n",
       "      <th>1334</th>\n",
       "      <td>Robusta</td>\n",
       "      <td>Ecuador</td>\n",
       "      <td>NaN</td>\n",
       "      <td>NaN</td>\n",
       "      <td>78.75</td>\n",
       "      <td>m</td>\n",
       "      <td>NaN</td>\n",
       "    </tr>\n",
       "    <tr>\n",
       "      <th>1335</th>\n",
       "      <td>Robusta</td>\n",
       "      <td>Ecuador</td>\n",
       "      <td>NaN</td>\n",
       "      <td>NaN</td>\n",
       "      <td>78.08</td>\n",
       "      <td>m</td>\n",
       "      <td>40.0</td>\n",
       "    </tr>\n",
       "    <tr>\n",
       "      <th>1336</th>\n",
       "      <td>Robusta</td>\n",
       "      <td>United States</td>\n",
       "      <td>NaN</td>\n",
       "      <td>Natural / Dry</td>\n",
       "      <td>77.17</td>\n",
       "      <td>m</td>\n",
       "      <td>795.0</td>\n",
       "    </tr>\n",
       "    <tr>\n",
       "      <th>1337</th>\n",
       "      <td>Robusta</td>\n",
       "      <td>India</td>\n",
       "      <td>NaN</td>\n",
       "      <td>Natural / Dry</td>\n",
       "      <td>75.08</td>\n",
       "      <td>m</td>\n",
       "      <td>NaN</td>\n",
       "    </tr>\n",
       "    <tr>\n",
       "      <th>1338</th>\n",
       "      <td>Robusta</td>\n",
       "      <td>Vietnam</td>\n",
       "      <td>NaN</td>\n",
       "      <td>Natural / Dry</td>\n",
       "      <td>73.75</td>\n",
       "      <td>m</td>\n",
       "      <td>NaN</td>\n",
       "    </tr>\n",
       "  </tbody>\n",
       "</table>\n",
       "<p>1339 rows × 7 columns</p>\n",
       "</div>"
      ],
      "text/plain": [
       "      Species Country.of.Origin  Variety Processing.Method  Total.Cup.Points  \\\n",
       "0     Arabica          Ethiopia      NaN      Washed / Wet             90.58   \n",
       "1     Arabica          Ethiopia    Other      Washed / Wet             89.92   \n",
       "2     Arabica         Guatemala  Bourbon               NaN             89.75   \n",
       "3     Arabica          Ethiopia      NaN     Natural / Dry             89.00   \n",
       "4     Arabica          Ethiopia    Other      Washed / Wet             88.83   \n",
       "...       ...               ...      ...               ...               ...   \n",
       "1334  Robusta           Ecuador      NaN               NaN             78.75   \n",
       "1335  Robusta           Ecuador      NaN               NaN             78.08   \n",
       "1336  Robusta     United States      NaN     Natural / Dry             77.17   \n",
       "1337  Robusta             India      NaN     Natural / Dry             75.08   \n",
       "1338  Robusta           Vietnam      NaN     Natural / Dry             73.75   \n",
       "\n",
       "     unit_of_measurement  altitude_mean_meters  \n",
       "0                      m                2075.0  \n",
       "1                      m                2075.0  \n",
       "2                      m                1700.0  \n",
       "3                      m                2000.0  \n",
       "4                      m                2075.0  \n",
       "...                  ...                   ...  \n",
       "1334                   m                   NaN  \n",
       "1335                   m                  40.0  \n",
       "1336                   m                 795.0  \n",
       "1337                   m                   NaN  \n",
       "1338                   m                   NaN  \n",
       "\n",
       "[1339 rows x 7 columns]"
      ]
     },
     "execution_count": 2,
     "metadata": {},
     "output_type": "execute_result"
    }
   ],
   "source": [
    "cols = ('Species', 'Country.of.Origin', 'Variety', 'Processing.Method', 'Total.Cup.Points', 'unit_of_measurement', 'altitude_mean_meters')\n",
    "\n",
    "data = pd.read_csv('merged_data_cleaned.csv', header = 0, usecols = cols)\n",
    "data"
   ]
  },
  {
   "cell_type": "markdown",
   "id": "bc139338-028b-4b9b-9df0-2ddcf1046928",
   "metadata": {},
   "source": [
    "I want to delete all the data with empty cells using the dropna method, and I want to select only the rows that use meters using loc to keep the unit of measurement consistent. This drops the number data points by 500, but there is still 880 points to work with which is a considerable amount especially with naive bayes."
   ]
  },
  {
   "cell_type": "code",
   "execution_count": 3,
   "id": "ccfa0f90-6e09-4b5f-8607-0ff727682728",
   "metadata": {},
   "outputs": [
    {
     "name": "stdout",
     "output_type": "stream",
     "text": [
      "Shape of data: (880, 6)\n"
     ]
    }
   ],
   "source": [
    "data = data.dropna(how = 'any').loc[data['unit_of_measurement'] == 'm']\n",
    "data = data.drop('unit_of_measurement', axis = 1)\n",
    "\n",
    "print(f\"Shape of data: {data.shape}\")"
   ]
  },
  {
   "cell_type": "markdown",
   "id": "06b29250-2f9b-4409-8be6-4ff56b57d2c8",
   "metadata": {},
   "source": [
    "I will calculate the average taste score."
   ]
  },
  {
   "cell_type": "code",
   "execution_count": 4,
   "id": "1d72f43e-54de-44fa-a653-095ed1a7f5a5",
   "metadata": {},
   "outputs": [
    {
     "name": "stdout",
     "output_type": "stream",
     "text": [
      "Average Cup Score: 82.13864772727261\n"
     ]
    }
   ],
   "source": [
    "avg_cup = np.mean(data['Total.Cup.Points'])\n",
    "print(f\"Average Cup Score: {avg_cup}\")"
   ]
  },
  {
   "cell_type": "markdown",
   "id": "5c3e0557-7af7-47d0-add9-913d82b7d283",
   "metadata": {},
   "source": [
    "Now that the data is cleaned up and the average score is calculated, I can prepare it to be used with the naive bayes method."
   ]
  },
  {
   "cell_type": "markdown",
   "id": "93914e4d-a6f8-421c-8ace-65873094d3aa",
   "metadata": {
    "tags": []
   },
   "source": [
    "## Naive Bayes Classifier"
   ]
  },
  {
   "cell_type": "markdown",
   "id": "c66a568e-e71d-4ff7-a0a9-fbde37aa5f5e",
   "metadata": {
    "tags": []
   },
   "source": [
    "### Pre-Processing"
   ]
  },
  {
   "cell_type": "markdown",
   "id": "7c4d0269-b55c-402d-9337-2ced461c86a8",
   "metadata": {},
   "source": [
    "First, I want to replace the total cup points with 0's and 1's, 1 indicating it is a good cup of coffee (above average) and 0 indiciating it is a bad cup of coffee. Secondly, I want to categorize the altitude data since that will be easier to work with naive bayes. I use the qcut method from the pandas library to divide the altitude into evenly split up quartiles. "
   ]
  },
  {
   "cell_type": "code",
   "execution_count": 5,
   "id": "26c9e616-8952-45cf-a48b-134dad4263e9",
   "metadata": {},
   "outputs": [
    {
     "data": {
      "text/html": [
       "<div>\n",
       "<style scoped>\n",
       "    .dataframe tbody tr th:only-of-type {\n",
       "        vertical-align: middle;\n",
       "    }\n",
       "\n",
       "    .dataframe tbody tr th {\n",
       "        vertical-align: top;\n",
       "    }\n",
       "\n",
       "    .dataframe thead th {\n",
       "        text-align: right;\n",
       "    }\n",
       "</style>\n",
       "<table border=\"1\" class=\"dataframe\">\n",
       "  <thead>\n",
       "    <tr style=\"text-align: right;\">\n",
       "      <th></th>\n",
       "      <th>Species</th>\n",
       "      <th>Country.of.Origin</th>\n",
       "      <th>Variety</th>\n",
       "      <th>Processing.Method</th>\n",
       "      <th>Total.Cup.Points</th>\n",
       "      <th>altitude_mean_meters</th>\n",
       "    </tr>\n",
       "  </thead>\n",
       "  <tbody>\n",
       "    <tr>\n",
       "      <th>1</th>\n",
       "      <td>Arabica</td>\n",
       "      <td>Ethiopia</td>\n",
       "      <td>Other</td>\n",
       "      <td>Washed / Wet</td>\n",
       "      <td>1</td>\n",
       "      <td>(1600.0, 190164.0]</td>\n",
       "    </tr>\n",
       "    <tr>\n",
       "      <th>4</th>\n",
       "      <td>Arabica</td>\n",
       "      <td>Ethiopia</td>\n",
       "      <td>Other</td>\n",
       "      <td>Washed / Wet</td>\n",
       "      <td>1</td>\n",
       "      <td>(1600.0, 190164.0]</td>\n",
       "    </tr>\n",
       "    <tr>\n",
       "      <th>9</th>\n",
       "      <td>Arabica</td>\n",
       "      <td>Ethiopia</td>\n",
       "      <td>Other</td>\n",
       "      <td>Natural / Dry</td>\n",
       "      <td>1</td>\n",
       "      <td>(1600.0, 190164.0]</td>\n",
       "    </tr>\n",
       "    <tr>\n",
       "      <th>11</th>\n",
       "      <td>Arabica</td>\n",
       "      <td>United States</td>\n",
       "      <td>Other</td>\n",
       "      <td>Washed / Wet</td>\n",
       "      <td>1</td>\n",
       "      <td>(1600.0, 190164.0]</td>\n",
       "    </tr>\n",
       "    <tr>\n",
       "      <th>12</th>\n",
       "      <td>Arabica</td>\n",
       "      <td>United States</td>\n",
       "      <td>Other</td>\n",
       "      <td>Washed / Wet</td>\n",
       "      <td>1</td>\n",
       "      <td>(1600.0, 190164.0]</td>\n",
       "    </tr>\n",
       "    <tr>\n",
       "      <th>...</th>\n",
       "      <td>...</td>\n",
       "      <td>...</td>\n",
       "      <td>...</td>\n",
       "      <td>...</td>\n",
       "      <td>...</td>\n",
       "      <td>...</td>\n",
       "    </tr>\n",
       "    <tr>\n",
       "      <th>1307</th>\n",
       "      <td>Arabica</td>\n",
       "      <td>Haiti</td>\n",
       "      <td>Typica</td>\n",
       "      <td>Natural / Dry</td>\n",
       "      <td>0</td>\n",
       "      <td>(0.999, 1100.0]</td>\n",
       "    </tr>\n",
       "    <tr>\n",
       "      <th>1308</th>\n",
       "      <td>Arabica</td>\n",
       "      <td>Nicaragua</td>\n",
       "      <td>Caturra</td>\n",
       "      <td>Other</td>\n",
       "      <td>0</td>\n",
       "      <td>(0.999, 1100.0]</td>\n",
       "    </tr>\n",
       "    <tr>\n",
       "      <th>1319</th>\n",
       "      <td>Robusta</td>\n",
       "      <td>India</td>\n",
       "      <td>Other</td>\n",
       "      <td>Washed / Wet</td>\n",
       "      <td>1</td>\n",
       "      <td>(0.999, 1100.0]</td>\n",
       "    </tr>\n",
       "    <tr>\n",
       "      <th>1322</th>\n",
       "      <td>Robusta</td>\n",
       "      <td>India</td>\n",
       "      <td>Other</td>\n",
       "      <td>Natural / Dry</td>\n",
       "      <td>0</td>\n",
       "      <td>(0.999, 1100.0]</td>\n",
       "    </tr>\n",
       "    <tr>\n",
       "      <th>1333</th>\n",
       "      <td>Robusta</td>\n",
       "      <td>United States</td>\n",
       "      <td>Arusha</td>\n",
       "      <td>Natural / Dry</td>\n",
       "      <td>0</td>\n",
       "      <td>(1600.0, 190164.0]</td>\n",
       "    </tr>\n",
       "  </tbody>\n",
       "</table>\n",
       "<p>880 rows × 6 columns</p>\n",
       "</div>"
      ],
      "text/plain": [
       "      Species Country.of.Origin  Variety Processing.Method  Total.Cup.Points  \\\n",
       "1     Arabica          Ethiopia    Other      Washed / Wet                 1   \n",
       "4     Arabica          Ethiopia    Other      Washed / Wet                 1   \n",
       "9     Arabica          Ethiopia    Other     Natural / Dry                 1   \n",
       "11    Arabica     United States    Other      Washed / Wet                 1   \n",
       "12    Arabica     United States    Other      Washed / Wet                 1   \n",
       "...       ...               ...      ...               ...               ...   \n",
       "1307  Arabica             Haiti   Typica     Natural / Dry                 0   \n",
       "1308  Arabica         Nicaragua  Caturra             Other                 0   \n",
       "1319  Robusta             India    Other      Washed / Wet                 1   \n",
       "1322  Robusta             India    Other     Natural / Dry                 0   \n",
       "1333  Robusta     United States   Arusha     Natural / Dry                 0   \n",
       "\n",
       "     altitude_mean_meters  \n",
       "1      (1600.0, 190164.0]  \n",
       "4      (1600.0, 190164.0]  \n",
       "9      (1600.0, 190164.0]  \n",
       "11     (1600.0, 190164.0]  \n",
       "12     (1600.0, 190164.0]  \n",
       "...                   ...  \n",
       "1307      (0.999, 1100.0]  \n",
       "1308      (0.999, 1100.0]  \n",
       "1319      (0.999, 1100.0]  \n",
       "1322      (0.999, 1100.0]  \n",
       "1333   (1600.0, 190164.0]  \n",
       "\n",
       "[880 rows x 6 columns]"
      ]
     },
     "execution_count": 5,
     "metadata": {},
     "output_type": "execute_result"
    }
   ],
   "source": [
    "NB_data = data.copy()\n",
    "\n",
    "NB_data['Total.Cup.Points'] = np.where(NB_data['Total.Cup.Points'] < avg_cup, 0, 1)\n",
    "NB_data['altitude_mean_meters'] = pd.qcut(NB_data['altitude_mean_meters'], 4)\n",
    "\n",
    "NB_data"
   ]
  },
  {
   "cell_type": "markdown",
   "id": "4a95fbaf-6d0a-4446-a795-fd0eccac0860",
   "metadata": {},
   "source": [
    "The data is divided into labels and features; labels containing the total cup points, and the features containing every other variable. The goal is to predict the labels based on the features. \n",
    "\n",
    "Since the bernoulli naive bayes method is being used, which only takes binary data, the pandas get_dummies method is used to get the \"dummy variables\" of the categories. For example, let's say the only column of data is the country of origin, and there are only three categories: India, Ethiopia, and Zambia. The get_dummies function outputs a data table with three columns: India, Ethiopia, and Zambia, with either a 0 or 1 depending on if a coffee bean originated from there. If a coffee cup originated in Ethiopia, for example, the corresponding row, or feature vector, is $f = (0, 1, 0)$. This is done for all columns and categories of the dataset."
   ]
  },
  {
   "cell_type": "code",
   "execution_count": 6,
   "id": "d34dc4f7-66be-4a06-ad94-8bbe823c3484",
   "metadata": {},
   "outputs": [
    {
     "name": "stdout",
     "output_type": "stream",
     "text": [
      "Shape of feature matrix: (880, 68) \n",
      "Length of list of labels: 880\n"
     ]
    }
   ],
   "source": [
    "labels = NB_data['Total.Cup.Points']\n",
    "features = NB_data.drop('Total.Cup.Points', axis = 1)\n",
    "\n",
    "features = pd.get_dummies(features)\n",
    "\n",
    "print(f\"Shape of feature matrix: {features.shape} \\nLength of list of labels: {labels.shape[0]}\")"
   ]
  },
  {
   "cell_type": "markdown",
   "id": "05a71b8c-5d53-45a0-827b-58ffb61893cc",
   "metadata": {},
   "source": [
    "The percentage of good coffee in the data is taken to later compare with the accuracy of the naive bayes method to see how it compares to guessing. "
   ]
  },
  {
   "cell_type": "code",
   "execution_count": 7,
   "id": "fa98ea6e-c684-490d-bf45-d45c4e42f17e",
   "metadata": {},
   "outputs": [
    {
     "name": "stdout",
     "output_type": "stream",
     "text": [
      "Percentage of cofffee in the data classified as good: 0.5818181818181818\n"
     ]
    }
   ],
   "source": [
    "percent_good_coffee = np.mean(labels)\n",
    "print(f\"Percentage of cofffee in the data classified as good: {percent_good_coffee}\")"
   ]
  },
  {
   "cell_type": "markdown",
   "id": "739cc984-0317-4495-aabc-caf64b8c344c",
   "metadata": {},
   "source": [
    "### Using the Naive Bayes Method"
   ]
  },
  {
   "cell_type": "markdown",
   "id": "bf611a15-6e66-4185-99cb-f5b6daec0f2f",
   "metadata": {},
   "source": [
    "The following formula will be used for the bernoulli naive bayes method:\n",
    "\n",
    "$$L_\\pm = X_1\\log(P_\\pm) + (1 - X_1)\\log(1 - P_\\pm) + \\log(P(\\pm))$$\n",
    "\n",
    "Where\n",
    "\n",
    "- $X_0$ is the training feature matrix.\n",
    "- $X_1$ is the testing feature matrix, to be predicted.\n",
    "- $Y$ is the label vector (for the training matrix).\n",
    "- $N_+ = Y^TY$ is the total number of positive scores.\n",
    "- $N_- = (1 - Y)^T(1 - Y)$ is the total number of negative scores.\n",
    "- $N = N_+ + N_-$ is the total number of scores.\n",
    "- $P(\\pm) = \\frac{N_\\pm}{N}$ is the prior probability a $\\pm$ score.\n",
    "- $f_+ = Y^TX_0$ is the sum of rows in X that correspond to positive scores, or the frequency of certain features in positive scores.\n",
    "- $f_- = (1 - Y)^TX_0$ is the same as $f_+$ but for negative scores.\n",
    "- $P_\\pm = \\frac{f_\\pm}{N_\\pm}$ is the matrix of conditional probabilities $[P(f_i | \\pm)]$.\n",
    "\n",
    "Negative scores are \"bad coffee\", positive scores are \"good coffee\". A coffee is classified as good if $L_+ > L_- $."
   ]
  },
  {
   "cell_type": "markdown",
   "id": "56c74e5f-6d30-48c8-9f95-a0e6177281ba",
   "metadata": {},
   "source": [
    "The idea is that if $P(+ | f) > P(- | f)$, then the coffee is classified as good, $f$ being a feature vector. $L_\\pm$ is derived from $P(\\pm | f)$ with the bayes theorem as such:\n",
    "\n",
    "$$\n",
    "\\begin{align}\n",
    "P(+ | f) &> P(- | f)\\\\\\\\\n",
    "\\frac{P(f | +)P(+)}{P(f)} &> \\frac{P(f | -)P(-)}{P(f)}\\\\\\\\\n",
    "P(f | +)P(+) &> P(f | -)P(-)\\\\\\\\\n",
    "\\log(P(f | +)) + \\log(P(+)) &> \\log(P(f | -) + \\log(P(-))\n",
    "\\end{align}\n",
    "$$\n",
    "\n",
    "Where $f = (x_1, x_2, \\ldots, x_n)$, and $f_i$ being attributed to each column in $X_0$ (assuming independence between all $f_i$): \n",
    "\n",
    "$$\\begin{align}\n",
    "P(f | \\pm) &= \\prod_{i = 1}^n P(f_i | \\pm)^{x_i} (1 - P(f_i | \\pm))^{(1 - x_i)}\\\\\\\\\n",
    "\\log(P(f | \\pm)) &= \\sum_{i = 1}^n x_i\\log(P(f_i | \\pm)) + (1 - x_i)\\log(1 - P(f_i | \\pm))\\\\\\\\\n",
    "\\log(P(X_1 | \\pm)) &= X_1\\log(P_\\pm) + (1 - X_1)\\log(1 - P_\\pm)\n",
    "\\end{align}$$"
   ]
  },
  {
   "cell_type": "code",
   "execution_count": 8,
   "id": "468f18f5-32cb-4ce9-984d-624283c64974",
   "metadata": {},
   "outputs": [],
   "source": [
    "class NaiveBayesClassifier:\n",
    "    def __init__(self, X, Y):\n",
    "        #1 is added to the end of each to \"smooth\" the values so that we are working with nonzero values\n",
    "        f_pos = Y.transpose() @ X + 1\n",
    "        f_neg = (1 - Y).transpose() @ X + 1\n",
    "        N_pos = Y.transpose() @ Y + 1\n",
    "        N_neg = (1 - Y).transpose() @ (1 - Y) + 1\n",
    "        N = N_pos + N_neg\n",
    "        \n",
    "        self.prior_pos = N_pos / N\n",
    "        self.prior_neg = N_neg / N\n",
    "        self.P_pos = f_pos / N_pos\n",
    "        self.P_neg = f_neg / N_neg\n",
    "        \n",
    "    def predict(self, X):\n",
    "        L_pos = X @ np.log(self.P_pos) + (1 - X) @ (1 - self.P_pos) + np.log(self.prior_pos)\n",
    "        L_neg = X @ np.log(self.P_neg) + (1 - X) @ (1 - self.P_neg) + np.log(self.prior_neg)\n",
    "        \n",
    "        return (L_pos > L_neg).astype(int)\n",
    "     \n",
    "    def score(self, test_X, test_Y):\n",
    "        predictions = self.predict(test_X)\n",
    "        score = np.mean(predictions == test_Y) #accuracy score\n",
    "        \n",
    "        return score"
   ]
  },
  {
   "cell_type": "markdown",
   "id": "00b2c0a2-3501-466e-b934-876bba52fd1c",
   "metadata": {},
   "source": [
    "Using train_test_split, the dataset will be divided into training and testing data. The model is fitted to the training data, and the testing data will be used to measure the accuracy of the model. "
   ]
  },
  {
   "cell_type": "code",
   "execution_count": 9,
   "id": "ef71961e-ac93-4a5c-bc9e-47a17ac10977",
   "metadata": {},
   "outputs": [],
   "source": [
    "from sklearn.model_selection import train_test_split\n",
    "\n",
    "train_features, test_features, train_labels, test_labels = train_test_split(features, labels, random_state = 1)"
   ]
  },
  {
   "cell_type": "code",
   "execution_count": 10,
   "id": "fca49224-a957-41a3-a318-b603304731f5",
   "metadata": {},
   "outputs": [
    {
     "data": {
      "text/plain": [
       "0.6818181818181818"
      ]
     },
     "execution_count": 10,
     "metadata": {},
     "output_type": "execute_result"
    }
   ],
   "source": [
    "#to_numpy() converts the dataframes into arrays\n",
    "NB_classifier = NaiveBayesClassifier(train_features.to_numpy(), train_labels.to_numpy())\n",
    "\n",
    "NB_classifier.score(test_features.to_numpy(), test_labels.to_numpy())"
   ]
  },
  {
   "cell_type": "markdown",
   "id": "d5fd832e-1f86-4aa8-852c-24041216b262",
   "metadata": {},
   "source": [
    "There is 68% accuracy using naive bayes, which is not that much better than purely guessing (58%). I will also use the bernoulli naive bayes method from the sklearn library to compare to my code and to use from now on."
   ]
  },
  {
   "cell_type": "code",
   "execution_count": 11,
   "id": "939448e1-67b7-4d4e-9f22-990f6a615003",
   "metadata": {},
   "outputs": [
    {
     "data": {
      "text/plain": [
       "0.6909090909090909"
      ]
     },
     "execution_count": 11,
     "metadata": {},
     "output_type": "execute_result"
    }
   ],
   "source": [
    "from sklearn.naive_bayes import BernoulliNB\n",
    "\n",
    "B = BernoulliNB().fit(train_features, train_labels)\n",
    "B.score(test_features, test_labels)"
   ]
  },
  {
   "cell_type": "markdown",
   "id": "b8a00a34-84f5-4121-8522-cf42fe2a271b",
   "metadata": {},
   "source": [
    "The accuracy is similar to the classifier I made above."
   ]
  },
  {
   "cell_type": "markdown",
   "id": "6f2e369d-a94a-48a9-a7d7-eb097df59882",
   "metadata": {
    "tags": []
   },
   "source": [
    "### Calculating Independence using Chi2 test"
   ]
  },
  {
   "cell_type": "markdown",
   "id": "d42c69b2-baab-44dc-851f-4d2f1769c1f5",
   "metadata": {},
   "source": [
    "Naive bayes assumes that the variables are independent, but this is very much not the case. For example, the altitude and the country of origin probably are dependent on eachother.\n",
    "\n",
    "To determine independence, a Chi2 test can be performed. The formula for the Chi2 test statistic is\n",
    "\n",
    "$$\\chi^2 = \\sum_{i=1}^{n} \\frac{(O_i - E_i)^2}{E_i}$$\n",
    "\n",
    "- $O$ is the contingency table of observed data\n",
    "- $E$ is the contingency table of expected data, with the expectation that the two variables are completely independent\n",
    "\n",
    "From this statistic we can get the p value, which is a percentage of how likely the two variables are independent. The standard cutoff is is 5%, where anything below 5% is considered to be statistically significant evidence that the two variables are dependent. "
   ]
  },
  {
   "cell_type": "markdown",
   "id": "86c69ddf-c1fd-4e7f-920a-46ec8f09cacb",
   "metadata": {},
   "source": [
    "Before making a Chi2 test, an expected and observed contingency table are constructed for the species and processing methods, and compared to see how similar they are. "
   ]
  },
  {
   "cell_type": "code",
   "execution_count": 12,
   "id": "b4d5a4c4-c606-4843-bdb3-1fc9fbe30620",
   "metadata": {},
   "outputs": [
    {
     "data": {
      "text/html": [
       "<div>\n",
       "<style scoped>\n",
       "    .dataframe tbody tr th:only-of-type {\n",
       "        vertical-align: middle;\n",
       "    }\n",
       "\n",
       "    .dataframe tbody tr th {\n",
       "        vertical-align: top;\n",
       "    }\n",
       "\n",
       "    .dataframe thead th {\n",
       "        text-align: right;\n",
       "    }\n",
       "</style>\n",
       "<table border=\"1\" class=\"dataframe\">\n",
       "  <thead>\n",
       "    <tr style=\"text-align: right;\">\n",
       "      <th></th>\n",
       "      <th>Arabica</th>\n",
       "      <th>Robusta</th>\n",
       "    </tr>\n",
       "  </thead>\n",
       "  <tbody>\n",
       "    <tr>\n",
       "      <th>Natural / Dry</th>\n",
       "      <td>168.423864</td>\n",
       "      <td>0.576136</td>\n",
       "    </tr>\n",
       "    <tr>\n",
       "      <th>Other</th>\n",
       "      <td>21.925000</td>\n",
       "      <td>0.075000</td>\n",
       "    </tr>\n",
       "    <tr>\n",
       "      <th>Pulped natural / honey</th>\n",
       "      <td>9.965909</td>\n",
       "      <td>0.034091</td>\n",
       "    </tr>\n",
       "    <tr>\n",
       "      <th>Semi-washed / Semi-pulped</th>\n",
       "      <td>52.819318</td>\n",
       "      <td>0.180682</td>\n",
       "    </tr>\n",
       "    <tr>\n",
       "      <th>Washed / Wet</th>\n",
       "      <td>623.865909</td>\n",
       "      <td>2.134091</td>\n",
       "    </tr>\n",
       "  </tbody>\n",
       "</table>\n",
       "</div>"
      ],
      "text/plain": [
       "                              Arabica   Robusta\n",
       "Natural / Dry              168.423864  0.576136\n",
       "Other                       21.925000  0.075000\n",
       "Pulped natural / honey       9.965909  0.034091\n",
       "Semi-washed / Semi-pulped   52.819318  0.180682\n",
       "Washed / Wet               623.865909  2.134091"
      ]
     },
     "execution_count": 12,
     "metadata": {},
     "output_type": "execute_result"
    }
   ],
   "source": [
    "species_percent = data['Species'].value_counts(normalize = True).to_frame().transpose()\n",
    "pm_counts = data['Processing.Method'].value_counts().to_frame()\n",
    "\n",
    "example_expected_crosstab = pd.DataFrame(pm_counts.values * species_percent.values, columns = species_percent.columns, index = pm_counts.index)\n",
    "example_expected_crosstab.sort_index()"
   ]
  },
  {
   "cell_type": "code",
   "execution_count": 13,
   "id": "a0ad27d8-1519-4974-9430-1425ae85fdd5",
   "metadata": {},
   "outputs": [
    {
     "data": {
      "text/html": [
       "<div>\n",
       "<style scoped>\n",
       "    .dataframe tbody tr th:only-of-type {\n",
       "        vertical-align: middle;\n",
       "    }\n",
       "\n",
       "    .dataframe tbody tr th {\n",
       "        vertical-align: top;\n",
       "    }\n",
       "\n",
       "    .dataframe thead th {\n",
       "        text-align: right;\n",
       "    }\n",
       "</style>\n",
       "<table border=\"1\" class=\"dataframe\">\n",
       "  <thead>\n",
       "    <tr style=\"text-align: right;\">\n",
       "      <th>Species</th>\n",
       "      <th>Arabica</th>\n",
       "      <th>Robusta</th>\n",
       "    </tr>\n",
       "    <tr>\n",
       "      <th>Processing.Method</th>\n",
       "      <th></th>\n",
       "      <th></th>\n",
       "    </tr>\n",
       "  </thead>\n",
       "  <tbody>\n",
       "    <tr>\n",
       "      <th>Natural / Dry</th>\n",
       "      <td>167</td>\n",
       "      <td>2</td>\n",
       "    </tr>\n",
       "    <tr>\n",
       "      <th>Other</th>\n",
       "      <td>22</td>\n",
       "      <td>0</td>\n",
       "    </tr>\n",
       "    <tr>\n",
       "      <th>Pulped natural / honey</th>\n",
       "      <td>10</td>\n",
       "      <td>0</td>\n",
       "    </tr>\n",
       "    <tr>\n",
       "      <th>Semi-washed / Semi-pulped</th>\n",
       "      <td>53</td>\n",
       "      <td>0</td>\n",
       "    </tr>\n",
       "    <tr>\n",
       "      <th>Washed / Wet</th>\n",
       "      <td>625</td>\n",
       "      <td>1</td>\n",
       "    </tr>\n",
       "  </tbody>\n",
       "</table>\n",
       "</div>"
      ],
      "text/plain": [
       "Species                    Arabica  Robusta\n",
       "Processing.Method                          \n",
       "Natural / Dry                  167        2\n",
       "Other                           22        0\n",
       "Pulped natural / honey          10        0\n",
       "Semi-washed / Semi-pulped       53        0\n",
       "Washed / Wet                   625        1"
      ]
     },
     "execution_count": 13,
     "metadata": {},
     "output_type": "execute_result"
    }
   ],
   "source": [
    "pd.crosstab(data['Processing.Method'], data['Species']).sort_index()"
   ]
  },
  {
   "cell_type": "markdown",
   "id": "43ec74bd-1195-4e5b-8d46-0346e39e9f4c",
   "metadata": {},
   "source": [
    "The two contingency tables look very similar, and species and processing method are probably independent from one another."
   ]
  },
  {
   "cell_type": "markdown",
   "id": "fc0497ef-54b9-4ec7-8da1-cafff936c25d",
   "metadata": {},
   "source": [
    "The following code calculates the p value of independence using the chi2 test."
   ]
  },
  {
   "cell_type": "code",
   "execution_count": 14,
   "id": "8e7e723c-b82f-468f-8b69-796f6d444ba4",
   "metadata": {},
   "outputs": [],
   "source": [
    "from scipy.stats import distributions\n",
    "\n",
    "def exp_crosstab(cat1, cat2):\n",
    "    #assembling expected crosstable based on assumption of complete 100% independence\n",
    "    #independence is defined by P(A and B) = P(A)P(B)\n",
    "    col_percents = cat1.value_counts(normalize = True).to_frame()\n",
    "    row_counts = cat2.value_counts().to_frame().transpose()\n",
    "    \n",
    "    return pd.DataFrame(col_percents.values * row_counts.values, columns = row_counts.columns, index = col_percents.index)\n",
    "\n",
    "def chi_2_p(cat1, cat2):\n",
    "    #assemble observed and expected cross tables of variables\n",
    "    actual_crosstab = pd.crosstab(cat1, cat2)\n",
    "    expected_crosstab = exp_crosstab(cat1, cat2)\n",
    "    \n",
    "    #calculate the test statistic\n",
    "    test_stat = actual_crosstab - expected_crosstab\n",
    "    test_stat = test_stat**2\n",
    "    test_stat = test_stat / expected_crosstab\n",
    "    test_stat = np.sum(test_stat.to_numpy())\n",
    "    \n",
    "    #calculate degree of freedom, which is (rowcount - 1) * (columncount - 1) for chi2 contingency tables\n",
    "    dof = (len(cat1.unique()) - 1) * (len(cat2.unique()) - 1)\n",
    "    \n",
    "    #calculate p\n",
    "    p = 1 - distributions.chi2.cdf(test_stat, dof)\n",
    "    return p"
   ]
  },
  {
   "cell_type": "code",
   "execution_count": 15,
   "id": "2da61be1-e320-4122-a53d-ce3905d0b56d",
   "metadata": {},
   "outputs": [
    {
     "data": {
      "text/plain": [
       "0.35135492601525686"
      ]
     },
     "execution_count": 15,
     "metadata": {},
     "output_type": "execute_result"
    }
   ],
   "source": [
    "chi_2_p(data['Processing.Method'], data['Species'])"
   ]
  },
  {
   "cell_type": "markdown",
   "id": "6f17cfb3-18fc-48c9-8aeb-3dc008d7caf4",
   "metadata": {},
   "source": [
    "As suspected, since the p value is above 0.05, it is concluded that processing method and species are independent."
   ]
  },
  {
   "cell_type": "markdown",
   "id": "4a88e587-416e-490a-988e-8b6d3a2dc0fa",
   "metadata": {},
   "source": [
    "I will use the scipy.stats chi2_contingency method to calculate the p value in order to check my code and also to use for further testing."
   ]
  },
  {
   "cell_type": "code",
   "execution_count": 16,
   "id": "5c551bd4-67e5-471a-97fb-5fe983b4528c",
   "metadata": {},
   "outputs": [
    {
     "data": {
      "text/plain": [
       "0.3513549260152569"
      ]
     },
     "execution_count": 16,
     "metadata": {},
     "output_type": "execute_result"
    }
   ],
   "source": [
    "from scipy.stats import chi2_contingency\n",
    "\n",
    "chi2_contingency(pd.crosstab(data['Processing.Method'], data['Species']))[1]"
   ]
  },
  {
   "cell_type": "markdown",
   "id": "960178ac-bb85-47b7-939d-e8aab43b9fbf",
   "metadata": {},
   "source": [
    "I got roughly the same value."
   ]
  },
  {
   "cell_type": "markdown",
   "id": "6c067cd8-02d5-449b-a824-b0ce5f9c3957",
   "metadata": {},
   "source": [
    "To test that I constructed the expected contingency tables properly, the following p value of the example contingency table should be 1."
   ]
  },
  {
   "cell_type": "code",
   "execution_count": 17,
   "id": "892ed6f3-705c-46e2-bb08-745d83f1f5c3",
   "metadata": {},
   "outputs": [
    {
     "data": {
      "text/plain": [
       "1.0"
      ]
     },
     "execution_count": 17,
     "metadata": {},
     "output_type": "execute_result"
    }
   ],
   "source": [
    "chi2_contingency(example_expected_crosstab)[1]"
   ]
  },
  {
   "cell_type": "markdown",
   "id": "81d42c8d-c168-4b8b-9265-0dbfb2baf9e4",
   "metadata": {},
   "source": [
    "Below I construct a map of independent variables. If the box is green, that means the two variables are independent, if the box is red then the variables are dependent."
   ]
  },
  {
   "cell_type": "code",
   "execution_count": 18,
   "id": "c0079b9b-7dcf-48a4-9679-bc5fac0e015e",
   "metadata": {},
   "outputs": [],
   "source": [
    "cats = list(NB_data)\n",
    "\n",
    "p_chart = pd.DataFrame(columns = cats, index = cats, dtype = \"float\")\n",
    "     \n",
    "for i in cats:\n",
    "    for j in cats:\n",
    "        p = chi2_contingency(pd.crosstab(NB_data[i], NB_data[j]))[1]\n",
    "        p_chart[i][j] = p\n",
    "        \n",
    "independence_chart = p_chart > 0.05 #if greater than .05, then 1 (independent), otherwise 0 (independent)"
   ]
  },
  {
   "cell_type": "code",
   "execution_count": 27,
   "id": "e541d80c-439c-40da-afda-b1259ba75da1",
   "metadata": {},
   "outputs": [
    {
     "data": {
      "text/plain": [
       "<AxesSubplot:title={'center':'Map of Independent Variables'}>"
      ]
     },
     "execution_count": 27,
     "metadata": {},
     "output_type": "execute_result"
    },
    {
     "data": {
      "image/png": "[encoded data removed]",
      "text/plain": [
       "<Figure size 640x480 with 1 Axes>"
      ]
     },
     "metadata": {},
     "output_type": "display_data"
    }
   ],
   "source": [
    "from matplotlib.patches import Patch\n",
    "\n",
    "legend_elements = [Patch(facecolor='#00ff00', edgecolor='black',\n",
    "                         label='Independent'),\n",
    "                  Patch(facecolor='#ff0000', edgecolor='black',\n",
    "                         label='Dependent')]\n",
    "\n",
    "colors = sns.color_palette(['#ff0000', '#00ff00'], as_cmap = True)\n",
    "plt.legend(handles = legend_elements, loc = 'lower right')\n",
    "plt.title(\"Map of Independent Variables\")\n",
    "\n",
    "sns.heatmap(independence_chart, cbar = False, cmap = colors)"
   ]
  },
  {
   "cell_type": "markdown",
   "id": "eb1212f5-b6f2-4ad9-8592-e56c64852d66",
   "metadata": {},
   "source": [
    "It seems like the only variables that are independent from eachother are species and processing method, and species and altitude. However, species is also independent from the total cup points, which indicates that it does not seem like a great variable to use for our model."
   ]
  },
  {
   "cell_type": "code",
   "execution_count": 21,
   "id": "bb411e64-6712-401f-aba1-398edb744296",
   "metadata": {},
   "outputs": [
    {
     "data": {
      "text/html": [
       "\n",
       "  <div class=\"bk-root\" id=\"27ebb927-dd82-43e5-92f2-b780345e21e5\" data-root-id=\"1003\"></div>\n"
      ]
     },
     "metadata": {},
     "output_type": "display_data"
    },
    {
     "data": {
      "application/javascript": "(function(root) {\n  function embed_document(root) {\n  const docs_json = {\"b9ae8198-3db0-4474-96a0-b0cfee1acad5\":{\"defs\":[],\"roots\":{\"references\":[{\"attributes\":{\"below\":[{\"id\":\"1014\"}],\"center\":[{\"id\":\"1017\"},{\"id\":\"1021\"}],\"height\":400,\"left\":[{\"id\":\"1018\"}],\"renderers\":[{\"id\":\"1040\"}],\"title\":{\"id\":\"1004\"},\"toolbar\":{\"id\":\"1029\"},\"width\":400,\"x_range\":{\"id\":\"1006\"},\"x_scale\":{\"id\":\"1010\"},\"y_range\":{\"id\":\"1008\"},\"y_scale\":{\"id\":\"1012\"}},\"id\":\"1003\",\"subtype\":\"Figure\",\"type\":\"Plot\"},{\"attributes\":{\"bottom_units\":\"screen\",\"coordinates\":null,\"fill_alpha\":0.5,\"fill_color\":\"lightgrey\",\"group\":null,\"left_units\":\"screen\",\"level\":\"overlay\",\"line_alpha\":1.0,\"line_color\":\"black\",\"line_dash\":[4,4],\"line_width\":2,\"right_units\":\"screen\",\"syncable\":false,\"top_units\":\"screen\"},\"id\":\"1028\",\"type\":\"BoxAnnotation\"},{\"attributes\":{\"fill_alpha\":{\"value\":0.2},\"fill_color\":{\"value\":\"#1f77b4\"},\"hatch_alpha\":{\"value\":0.2},\"line_alpha\":{\"value\":0.2},\"line_color\":{\"value\":\"#1f77b4\"},\"x\":{\"field\":\"x\"},\"y\":{\"field\":\"y\"}},\"id\":\"1039\",\"type\":\"Scatter\"},{\"attributes\":{\"data\":{\"x\":{\"__ndarray__\":\"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\",\"dtype\":\"float64\",\"order\":\"little\",\"shape\":[880]},\"y\":{\"__ndarray__\":\"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\",\"dtype\":\"float64\",\"order\":\"little\",\"shape\":[880]}},\"selected\":{\"id\":\"1050\"},\"selection_policy\":{\"id\":\"1049\"}},\"id\":\"1036\",\"type\":\"ColumnDataSource\"},{\"attributes\":{},\"id\":\"1044\",\"type\":\"BasicTickFormatter\"},{\"attributes\":{\"fill_color\":{\"value\":\"#1f77b4\"},\"line_color\":{\"value\":\"#1f77b4\"},\"x\":{\"field\":\"x\"},\"y\":{\"field\":\"y\"}},\"id\":\"1037\",\"type\":\"Scatter\"},{\"attributes\":{},\"id\":\"1026\",\"type\":\"ResetTool\"},{\"attributes\":{},\"id\":\"1025\",\"type\":\"SaveTool\"},{\"attributes\":{\"coordinates\":null,\"data_source\":{\"id\":\"1036\"},\"glyph\":{\"id\":\"1037\"},\"group\":null,\"hover_glyph\":null,\"muted_glyph\":{\"id\":\"1039\"},\"nonselection_glyph\":{\"id\":\"1038\"},\"view\":{\"id\":\"1041\"}},\"id\":\"1040\",\"type\":\"GlyphRenderer\"},{\"attributes\":{\"overlay\":{\"id\":\"1028\"}},\"id\":\"1024\",\"type\":\"BoxZoomTool\"},{\"attributes\":{},\"id\":\"1045\",\"type\":\"AllLabels\"},{\"attributes\":{},\"id\":\"1022\",\"type\":\"PanTool\"},{\"attributes\":{},\"id\":\"1023\",\"type\":\"WheelZoomTool\"},{\"attributes\":{},\"id\":\"1047\",\"type\":\"BasicTickFormatter\"},{\"attributes\":{\"tools\":[{\"id\":\"1022\"},{\"id\":\"1023\"},{\"id\":\"1024\"},{\"id\":\"1025\"},{\"id\":\"1026\"},{\"id\":\"1027\"}]},\"id\":\"1029\",\"type\":\"Toolbar\"},{\"attributes\":{},\"id\":\"1019\",\"type\":\"BasicTicker\"},{\"attributes\":{\"source\":{\"id\":\"1036\"}},\"id\":\"1041\",\"type\":\"CDSView\"},{\"attributes\":{\"axis\":{\"id\":\"1018\"},\"coordinates\":null,\"dimension\":1,\"group\":null,\"ticker\":null},\"id\":\"1021\",\"type\":\"Grid\"},{\"attributes\":{},\"id\":\"1048\",\"type\":\"AllLabels\"},{\"attributes\":{},\"id\":\"1027\",\"type\":\"HelpTool\"},{\"attributes\":{\"axis_label\":\"Mean Altitude (m)\",\"coordinates\":null,\"formatter\":{\"id\":\"1047\"},\"group\":null,\"major_label_policy\":{\"id\":\"1048\"},\"ticker\":{\"id\":\"1015\"}},\"id\":\"1014\",\"type\":\"LinearAxis\"},{\"attributes\":{},\"id\":\"1010\",\"type\":\"LinearScale\"},{\"attributes\":{\"axis\":{\"id\":\"1014\"},\"coordinates\":null,\"group\":null,\"ticker\":null},\"id\":\"1017\",\"type\":\"Grid\"},{\"attributes\":{},\"id\":\"1049\",\"type\":\"UnionRenderers\"},{\"attributes\":{\"coordinates\":null,\"group\":null,\"text\":\"Total Score vs Altitude\"},\"id\":\"1004\",\"type\":\"Title\"},{\"attributes\":{},\"id\":\"1050\",\"type\":\"Selection\"},{\"attributes\":{},\"id\":\"1015\",\"type\":\"BasicTicker\"},{\"attributes\":{},\"id\":\"1008\",\"type\":\"DataRange1d\"},{\"attributes\":{\"axis_label\":\"Total Score\",\"coordinates\":null,\"formatter\":{\"id\":\"1044\"},\"group\":null,\"major_label_policy\":{\"id\":\"1045\"},\"ticker\":{\"id\":\"1019\"}},\"id\":\"1018\",\"type\":\"LinearAxis\"},{\"attributes\":{},\"id\":\"1012\",\"type\":\"LinearScale\"},{\"attributes\":{\"fill_alpha\":{\"value\":0.1},\"fill_color\":{\"value\":\"#1f77b4\"},\"hatch_alpha\":{\"value\":0.1},\"line_alpha\":{\"value\":0.1},\"line_color\":{\"value\":\"#1f77b4\"},\"x\":{\"field\":\"x\"},\"y\":{\"field\":\"y\"}},\"id\":\"1038\",\"type\":\"Scatter\"},{\"attributes\":{},\"id\":\"1006\",\"type\":\"DataRange1d\"}],\"root_ids\":[\"1003\"]},\"title\":\"Bokeh Application\",\"version\":\"2.4.3\"}};\n  const render_items = [{\"docid\":\"b9ae8198-3db0-4474-96a0-b0cfee1acad5\",\"root_ids\":[\"1003\"],\"roots\":{\"1003\":\"27ebb927-dd82-43e5-92f2-b780345e21e5\"}}];\n  root.Bokeh.embed.embed_items_notebook(docs_json, render_items);\n  }\n  if (root.Bokeh !== undefined) {\n    embed_document(root);\n  } else {\n    let attempts = 0;\n    const timer = setInterval(function(root) {\n      if (root.Bokeh !== undefined) {\n        clearInterval(timer);\n        embed_document(root);\n      } else {\n        attempts++;\n        if (attempts > 100) {\n          clearInterval(timer);\n          console.log(\"Bokeh: ERROR: Unable to run BokehJS code because BokehJS library is missing\");\n        }\n      }\n    }, 10, root)\n  }\n})(window);",
      "application/vnd.bokehjs_exec.v0+json": ""
     },
     "metadata": {
      "application/vnd.bokehjs_exec.v0+json": {
       "id": "1003"
      }
     },
     "output_type": "display_data"
    }
   ],
   "source": [
    "x = data['altitude_mean_meters']\n",
    "y = data['Total.Cup.Points']\n",
    "\n",
    "f = figure(width = 400, height = 400, title = \"Total Score vs Altitude\")\n",
    "f.xaxis.axis_label = \"Mean Altitude (m)\"\n",
    "f.yaxis.axis_label = \"Total Score\"\n",
    "\n",
    "f.scatter(x = x, y = y)\n",
    "show(f)"
   ]
  },
  {
   "cell_type": "code",
   "execution_count": 22,
   "id": "75dbc0fe-acf2-4c28-8ab8-38f700dcdae6",
   "metadata": {},
   "outputs": [
    {
     "data": {
      "text/html": [
       "<div>\n",
       "<style scoped>\n",
       "    .dataframe tbody tr th:only-of-type {\n",
       "        vertical-align: middle;\n",
       "    }\n",
       "\n",
       "    .dataframe tbody tr th {\n",
       "        vertical-align: top;\n",
       "    }\n",
       "\n",
       "    .dataframe thead th {\n",
       "        text-align: right;\n",
       "    }\n",
       "</style>\n",
       "<table border=\"1\" class=\"dataframe\">\n",
       "  <thead>\n",
       "    <tr style=\"text-align: right;\">\n",
       "      <th></th>\n",
       "      <th>altitude_mean_meters</th>\n",
       "      <th>Total.Cup.Points</th>\n",
       "    </tr>\n",
       "  </thead>\n",
       "  <tbody>\n",
       "    <tr>\n",
       "      <th>altitude_mean_meters</th>\n",
       "      <td>1.000000</td>\n",
       "      <td>-0.024591</td>\n",
       "    </tr>\n",
       "    <tr>\n",
       "      <th>Total.Cup.Points</th>\n",
       "      <td>-0.024591</td>\n",
       "      <td>1.000000</td>\n",
       "    </tr>\n",
       "  </tbody>\n",
       "</table>\n",
       "</div>"
      ],
      "text/plain": [
       "                      altitude_mean_meters  Total.Cup.Points\n",
       "altitude_mean_meters              1.000000         -0.024591\n",
       "Total.Cup.Points                 -0.024591          1.000000"
      ]
     },
     "execution_count": 22,
     "metadata": {},
     "output_type": "execute_result"
    }
   ],
   "source": [
    "data[['altitude_mean_meters', 'Total.Cup.Points']].corr()"
   ]
  },
  {
   "cell_type": "markdown",
   "id": "0bc7f075-d579-4eab-b888-22fbd5494151",
   "metadata": {},
   "source": [
    "Altitude is also not a good variable to use in our model, which has -2% correlation (it should have -20% or 20% to have at least some sort of correlation)."
   ]
  },
  {
   "cell_type": "markdown",
   "id": "d40c4fd1-249d-42d1-a234-5e78521169cf",
   "metadata": {},
   "source": [
    "Here are the raw p values (the lower the value, the more dependent it is):"
   ]
  },
  {
   "cell_type": "code",
   "execution_count": 23,
   "id": "4590069b-e5f4-4fbb-b763-684133aa4007",
   "metadata": {},
   "outputs": [
    {
     "data": {
      "text/html": [
       "<div>\n",
       "<style scoped>\n",
       "    .dataframe tbody tr th:only-of-type {\n",
       "        vertical-align: middle;\n",
       "    }\n",
       "\n",
       "    .dataframe tbody tr th {\n",
       "        vertical-align: top;\n",
       "    }\n",
       "\n",
       "    .dataframe thead th {\n",
       "        text-align: right;\n",
       "    }\n",
       "</style>\n",
       "<table border=\"1\" class=\"dataframe\">\n",
       "  <thead>\n",
       "    <tr style=\"text-align: right;\">\n",
       "      <th></th>\n",
       "      <th>Total.Cup.Points</th>\n",
       "      <th>Species</th>\n",
       "      <th>Country.of.Origin</th>\n",
       "      <th>Variety</th>\n",
       "      <th>Processing.Method</th>\n",
       "    </tr>\n",
       "  </thead>\n",
       "  <tbody>\n",
       "    <tr>\n",
       "      <th>Total.Cup.Points</th>\n",
       "      <td>1.706446e-192</td>\n",
       "      <td>7.735075e-01</td>\n",
       "      <td>6.224702e-28</td>\n",
       "      <td>1.990212e-09</td>\n",
       "      <td>3.908257e-02</td>\n",
       "    </tr>\n",
       "    <tr>\n",
       "      <th>Species</th>\n",
       "      <td>7.735075e-01</td>\n",
       "      <td>9.747420e-135</td>\n",
       "      <td>1.405471e-112</td>\n",
       "      <td>8.665842e-21</td>\n",
       "      <td>3.513549e-01</td>\n",
       "    </tr>\n",
       "    <tr>\n",
       "      <th>Country.of.Origin</th>\n",
       "      <td>6.224702e-28</td>\n",
       "      <td>1.405471e-112</td>\n",
       "      <td>0.000000e+00</td>\n",
       "      <td>0.000000e+00</td>\n",
       "      <td>2.458140e-70</td>\n",
       "    </tr>\n",
       "    <tr>\n",
       "      <th>Variety</th>\n",
       "      <td>1.990212e-09</td>\n",
       "      <td>8.665842e-21</td>\n",
       "      <td>0.000000e+00</td>\n",
       "      <td>0.000000e+00</td>\n",
       "      <td>1.120545e-23</td>\n",
       "    </tr>\n",
       "    <tr>\n",
       "      <th>Processing.Method</th>\n",
       "      <td>3.908257e-02</td>\n",
       "      <td>3.513549e-01</td>\n",
       "      <td>2.458140e-70</td>\n",
       "      <td>1.120545e-23</td>\n",
       "      <td>0.000000e+00</td>\n",
       "    </tr>\n",
       "  </tbody>\n",
       "</table>\n",
       "</div>"
      ],
      "text/plain": [
       "                   Total.Cup.Points        Species  Country.of.Origin  \\\n",
       "Total.Cup.Points      1.706446e-192   7.735075e-01       6.224702e-28   \n",
       "Species                7.735075e-01  9.747420e-135      1.405471e-112   \n",
       "Country.of.Origin      6.224702e-28  1.405471e-112       0.000000e+00   \n",
       "Variety                1.990212e-09   8.665842e-21       0.000000e+00   \n",
       "Processing.Method      3.908257e-02   3.513549e-01       2.458140e-70   \n",
       "\n",
       "                        Variety  Processing.Method  \n",
       "Total.Cup.Points   1.990212e-09       3.908257e-02  \n",
       "Species            8.665842e-21       3.513549e-01  \n",
       "Country.of.Origin  0.000000e+00       2.458140e-70  \n",
       "Variety            0.000000e+00       1.120545e-23  \n",
       "Processing.Method  1.120545e-23       0.000000e+00  "
      ]
     },
     "execution_count": 23,
     "metadata": {},
     "output_type": "execute_result"
    }
   ],
   "source": [
    "cats = ['Total.Cup.Points', 'Species', 'Country.of.Origin', 'Variety', 'Processing.Method']\n",
    "\n",
    "p_chart[cats].loc[cats]"
   ]
  },
  {
   "cell_type": "markdown",
   "id": "adce1aed-71f2-40ec-979e-4e2ec8c3e11a",
   "metadata": {},
   "source": [
    "Both altitude and species have little to no relation to the taste score. Variety, processing method, and country of origin are all very closely related to eachother and dependent. Out of all of them, country of origin is the one most closely related to the taste score. So to improve the naive bayes model, only country of origin is used."
   ]
  },
  {
   "cell_type": "code",
   "execution_count": 24,
   "id": "dcd26288-bec8-4b55-b362-58b4f5d33dca",
   "metadata": {},
   "outputs": [
    {
     "data": {
      "text/plain": [
       "0.7"
      ]
     },
     "execution_count": 24,
     "metadata": {},
     "output_type": "execute_result"
    }
   ],
   "source": [
    "features = NB_data['Country.of.Origin']\n",
    "features = pd.get_dummies(features)\n",
    "\n",
    "train_features, test_features, train_labels, test_labels = train_test_split(features, labels, random_state = 1)\n",
    "\n",
    "B = BernoulliNB().fit(train_features, train_labels)\n",
    "B.score(test_features, test_labels)"
   ]
  },
  {
   "cell_type": "markdown",
   "id": "b110ba8d-a2f2-44ea-a76a-305d534bfa4e",
   "metadata": {},
   "source": [
    "The accuracy is roughly the same as it was before, which is only marginally better than guessing."
   ]
  },
  {
   "cell_type": "code",
   "execution_count": 25,
   "id": "4f0b7eec-4fb7-4df1-a987-2d8fb186c97d",
   "metadata": {},
   "outputs": [
    {
     "data": {
      "text/plain": [
       "0.7015151515151515"
      ]
     },
     "execution_count": 25,
     "metadata": {},
     "output_type": "execute_result"
    }
   ],
   "source": [
    "B.score(train_features, train_labels)"
   ]
  },
  {
   "cell_type": "markdown",
   "id": "3a61c0c7-d15a-475e-9852-8e6e01cad161",
   "metadata": {},
   "source": [
    "The accuracy the training and testing data are the same, which indicates that the model fits well."
   ]
  },
  {
   "cell_type": "markdown",
   "id": "1e0f4ed3-1740-45b5-a1f7-1ccc3c8077c5",
   "metadata": {
    "tags": []
   },
   "source": [
    "### Mapping which Countries have Good Coffee"
   ]
  },
  {
   "cell_type": "markdown",
   "id": "f0410efa-5b58-4835-ae40-6c1b9f2dc9b0",
   "metadata": {},
   "source": [
    "The code below creates a map of which countries are predicted to have good coffee based on the naive bayes model. A custom made input of data is used with each data point being it's own individual country."
   ]
  },
  {
   "cell_type": "code",
   "execution_count": 29,
   "id": "836a0323-a8fe-4561-af89-4c536e390405",
   "metadata": {},
   "outputs": [
    {
     "data": {
      "text/plain": [
       "<AxesSubplot:title={'center':'Good/Bad Coffee by Country'}>"
      ]
     },
     "execution_count": 29,
     "metadata": {},
     "output_type": "execute_result"
    },
    {
     "data": {
      "image/png": "[encoded data removed]",
      "text/plain": [
       "<Figure size 100x1000 with 1 Axes>"
      ]
     },
     "metadata": {},
     "output_type": "display_data"
    }
   ],
   "source": [
    "countries = data['Country.of.Origin'].unique()\n",
    "countries.sort()\n",
    "\n",
    "list_countries = pd.DataFrame()\n",
    "list_countries['Country.of.Origin'] = countries\n",
    "\n",
    "list_countries = pd.get_dummies(list_countries)\n",
    "\n",
    "predictions = B.predict(list_countries)\n",
    "\n",
    "legend_elements = [Patch(facecolor='#00ff00', edgecolor='black',\n",
    "                         label='Good Coffee'),\n",
    "                  Patch(facecolor='#ff0000', edgecolor='black',\n",
    "                         label='Bad Coffee')]\n",
    "\n",
    "table_predicts = pd.DataFrame(predictions, columns = ['Good Coffee'], index = countries)\n",
    "colors = sns.color_palette(['#ff0000', '#00ff00'], as_cmap = True)\n",
    "\n",
    "plt.figure(figsize = (1,10))\n",
    "plt.legend(handles = legend_elements, loc = 'upper left')\n",
    "plt.title(\"Good/Bad Coffee by Country\")\n",
    "\n",
    "sns.heatmap(table_predicts, square = True, yticklabels = countries, xticklabels = False, cbar = False, cmap = colors)"
   ]
  },
  {
   "cell_type": "markdown",
   "id": "18c0ecf4-09ca-491c-97eb-fa1c19c5f06b",
   "metadata": {},
   "source": [
    "## Linear Regression"
   ]
  },
  {
   "cell_type": "markdown",
   "id": "66d370ec-ece5-49d2-9ff3-e0cf6d5e41cc",
   "metadata": {},
   "source": [
    "Instead of just classifying coffee into good or bad, I want to see which countries have the best and worst coffee, and see if this is better than using naive bayes. To do this, linear regresion is used.\n",
    "\n",
    "There are several possible problems with using linear regression. Since linear regression uses continuous inputs, dummy variables are still going to be used, which might not be the best since they are only 0's and 1's. Also, since some countries do not have many entries of data, and since the data does not seem to be correlated much, there will probably be problems with fitting in the model. "
   ]
  },
  {
   "cell_type": "code",
   "execution_count": 30,
   "id": "22bf0fd6-79e1-47f0-9a45-ddc11f179d36",
   "metadata": {},
   "outputs": [],
   "source": [
    "linear_data = data.copy()\n",
    "cats = ['Country.of.Origin', 'Total.Cup.Points']\n",
    "\n",
    "linear_data = linear_data[cats]\n",
    "linear_data = pd.get_dummies(linear_data, columns = ['Country.of.Origin'])\n",
    "\n",
    "labels = linear_data['Total.Cup.Points']\n",
    "features = linear_data.drop(['Total.Cup.Points'], axis = 1)"
   ]
  },
  {
   "cell_type": "markdown",
   "id": "b53635da-1886-4766-b39b-3a5a3c10ef44",
   "metadata": {},
   "source": [
    "The LinearRegression class from sklearn is used to generate the model, and to compute the coefficient of determination."
   ]
  },
  {
   "cell_type": "code",
   "execution_count": 31,
   "id": "33cbdf1a-2f0a-4b16-b6c9-2c4bf31c2eec",
   "metadata": {},
   "outputs": [
    {
     "data": {
      "text/plain": [
       "-2.7815702948099247e+23"
      ]
     },
     "execution_count": 31,
     "metadata": {},
     "output_type": "execute_result"
    }
   ],
   "source": [
    "from sklearn.linear_model import LinearRegression\n",
    "\n",
    "train_features, test_features, train_labels, test_labels = train_test_split(features, labels, random_state = 1)\n",
    "\n",
    "lin_reg = LinearRegression().fit(train_features, train_labels)\n",
    "lin_reg.score(test_features, test_labels)"
   ]
  },
  {
   "cell_type": "markdown",
   "id": "0d18b79a-5f93-46cb-9d6d-fa840431c52c",
   "metadata": {},
   "source": [
    "The coefficient of determination is a large negative number, which I did not think was possible, but according to documentation it can be because the model can be \"arbitrarily worse\". "
   ]
  },
  {
   "cell_type": "code",
   "execution_count": 32,
   "id": "d566eeee-6f36-487a-93d1-dd40457d153d",
   "metadata": {},
   "outputs": [
    {
     "data": {
      "text/html": [
       "<div>\n",
       "<style scoped>\n",
       "    .dataframe tbody tr th:only-of-type {\n",
       "        vertical-align: middle;\n",
       "    }\n",
       "\n",
       "    .dataframe tbody tr th {\n",
       "        vertical-align: top;\n",
       "    }\n",
       "\n",
       "    .dataframe thead th {\n",
       "        text-align: right;\n",
       "    }\n",
       "</style>\n",
       "<table border=\"1\" class=\"dataframe\">\n",
       "  <thead>\n",
       "    <tr style=\"text-align: right;\">\n",
       "      <th></th>\n",
       "      <th>Taste Score</th>\n",
       "    </tr>\n",
       "  </thead>\n",
       "  <tbody>\n",
       "    <tr>\n",
       "      <th>Brazil</th>\n",
       "      <td>82</td>\n",
       "    </tr>\n",
       "    <tr>\n",
       "      <th>Burundi</th>\n",
       "      <td>22124507827638</td>\n",
       "    </tr>\n",
       "    <tr>\n",
       "      <th>China</th>\n",
       "      <td>82</td>\n",
       "    </tr>\n",
       "    <tr>\n",
       "      <th>Colombia</th>\n",
       "      <td>83</td>\n",
       "    </tr>\n",
       "    <tr>\n",
       "      <th>Costa Rica</th>\n",
       "      <td>82</td>\n",
       "    </tr>\n",
       "    <tr>\n",
       "      <th>El Salvador</th>\n",
       "      <td>82</td>\n",
       "    </tr>\n",
       "    <tr>\n",
       "      <th>Ethiopia</th>\n",
       "      <td>85</td>\n",
       "    </tr>\n",
       "    <tr>\n",
       "      <th>Guatemala</th>\n",
       "      <td>82</td>\n",
       "    </tr>\n",
       "    <tr>\n",
       "      <th>Haiti</th>\n",
       "      <td>75</td>\n",
       "    </tr>\n",
       "    <tr>\n",
       "      <th>Honduras</th>\n",
       "      <td>80</td>\n",
       "    </tr>\n",
       "    <tr>\n",
       "      <th>India</th>\n",
       "      <td>82</td>\n",
       "    </tr>\n",
       "    <tr>\n",
       "      <th>Indonesia</th>\n",
       "      <td>82</td>\n",
       "    </tr>\n",
       "    <tr>\n",
       "      <th>Japan</th>\n",
       "      <td>84</td>\n",
       "    </tr>\n",
       "    <tr>\n",
       "      <th>Kenya</th>\n",
       "      <td>84</td>\n",
       "    </tr>\n",
       "    <tr>\n",
       "      <th>Laos</th>\n",
       "      <td>82</td>\n",
       "    </tr>\n",
       "    <tr>\n",
       "      <th>Malawi</th>\n",
       "      <td>81</td>\n",
       "    </tr>\n",
       "    <tr>\n",
       "      <th>Mexico</th>\n",
       "      <td>80</td>\n",
       "    </tr>\n",
       "    <tr>\n",
       "      <th>Myanmar</th>\n",
       "      <td>80</td>\n",
       "    </tr>\n",
       "    <tr>\n",
       "      <th>Nicaragua</th>\n",
       "      <td>80</td>\n",
       "    </tr>\n",
       "    <tr>\n",
       "      <th>Panama</th>\n",
       "      <td>84</td>\n",
       "    </tr>\n",
       "    <tr>\n",
       "      <th>Peru</th>\n",
       "      <td>78</td>\n",
       "    </tr>\n",
       "    <tr>\n",
       "      <th>Philippines</th>\n",
       "      <td>81</td>\n",
       "    </tr>\n",
       "    <tr>\n",
       "      <th>Rwanda</th>\n",
       "      <td>82</td>\n",
       "    </tr>\n",
       "    <tr>\n",
       "      <th>Taiwan</th>\n",
       "      <td>82</td>\n",
       "    </tr>\n",
       "    <tr>\n",
       "      <th>Tanzania, United Republic Of</th>\n",
       "      <td>82</td>\n",
       "    </tr>\n",
       "    <tr>\n",
       "      <th>Thailand</th>\n",
       "      <td>82</td>\n",
       "    </tr>\n",
       "    <tr>\n",
       "      <th>Uganda</th>\n",
       "      <td>83</td>\n",
       "    </tr>\n",
       "    <tr>\n",
       "      <th>United States</th>\n",
       "      <td>85</td>\n",
       "    </tr>\n",
       "    <tr>\n",
       "      <th>Vietnam</th>\n",
       "      <td>82</td>\n",
       "    </tr>\n",
       "    <tr>\n",
       "      <th>Zambia</th>\n",
       "      <td>81</td>\n",
       "    </tr>\n",
       "  </tbody>\n",
       "</table>\n",
       "</div>"
      ],
      "text/plain": [
       "                                 Taste Score\n",
       "Brazil                                    82\n",
       "Burundi                       22124507827638\n",
       "China                                     82\n",
       "Colombia                                  83\n",
       "Costa Rica                                82\n",
       "El Salvador                               82\n",
       "Ethiopia                                  85\n",
       "Guatemala                                 82\n",
       "Haiti                                     75\n",
       "Honduras                                  80\n",
       "India                                     82\n",
       "Indonesia                                 82\n",
       "Japan                                     84\n",
       "Kenya                                     84\n",
       "Laos                                      82\n",
       "Malawi                                    81\n",
       "Mexico                                    80\n",
       "Myanmar                                   80\n",
       "Nicaragua                                 80\n",
       "Panama                                    84\n",
       "Peru                                      78\n",
       "Philippines                               81\n",
       "Rwanda                                    82\n",
       "Taiwan                                    82\n",
       "Tanzania, United Republic Of              82\n",
       "Thailand                                  82\n",
       "Uganda                                    83\n",
       "United States                             85\n",
       "Vietnam                                   82\n",
       "Zambia                                    81"
      ]
     },
     "execution_count": 32,
     "metadata": {},
     "output_type": "execute_result"
    }
   ],
   "source": [
    "countries = data['Country.of.Origin'].unique()\n",
    "countries.sort()\n",
    "\n",
    "list_countries = pd.DataFrame()\n",
    "list_countries['Country.of.Origin'] = countries\n",
    "\n",
    "list_countries = pd.get_dummies(list_countries)\n",
    "\n",
    "predictions = lin_reg.predict(list_countries).astype(int)\n",
    "\n",
    "table_predict = pd.DataFrame(predictions, columns = ['Taste Score'], index = countries)\n",
    "table_predict"
   ]
  },
  {
   "cell_type": "markdown",
   "id": "ffc0d7ab-267e-4ffd-b99b-339d72eb600a",
   "metadata": {},
   "source": [
    "Each country seems to have normal predicted scores, except Burundi, which seems to be causing the negative coefficient of determination."
   ]
  },
  {
   "cell_type": "code",
   "execution_count": 33,
   "id": "e6a8e26e-580e-4e0d-96d7-45d4936aa3e4",
   "metadata": {},
   "outputs": [
    {
     "data": {
      "text/html": [
       "<div>\n",
       "<style scoped>\n",
       "    .dataframe tbody tr th:only-of-type {\n",
       "        vertical-align: middle;\n",
       "    }\n",
       "\n",
       "    .dataframe tbody tr th {\n",
       "        vertical-align: top;\n",
       "    }\n",
       "\n",
       "    .dataframe thead th {\n",
       "        text-align: right;\n",
       "    }\n",
       "</style>\n",
       "<table border=\"1\" class=\"dataframe\">\n",
       "  <thead>\n",
       "    <tr style=\"text-align: right;\">\n",
       "      <th></th>\n",
       "      <th>Species</th>\n",
       "      <th>Country.of.Origin</th>\n",
       "      <th>Variety</th>\n",
       "      <th>Processing.Method</th>\n",
       "      <th>Total.Cup.Points</th>\n",
       "      <th>altitude_mean_meters</th>\n",
       "    </tr>\n",
       "  </thead>\n",
       "  <tbody>\n",
       "    <tr>\n",
       "      <th>412</th>\n",
       "      <td>Arabica</td>\n",
       "      <td>Burundi</td>\n",
       "      <td>Bourbon</td>\n",
       "      <td>Washed / Wet</td>\n",
       "      <td>83.33</td>\n",
       "      <td>1880.0</td>\n",
       "    </tr>\n",
       "  </tbody>\n",
       "</table>\n",
       "</div>"
      ],
      "text/plain": [
       "     Species Country.of.Origin  Variety Processing.Method  Total.Cup.Points  \\\n",
       "412  Arabica           Burundi  Bourbon      Washed / Wet             83.33   \n",
       "\n",
       "     altitude_mean_meters  \n",
       "412                1880.0  "
      ]
     },
     "execution_count": 33,
     "metadata": {},
     "output_type": "execute_result"
    }
   ],
   "source": [
    "data[data['Country.of.Origin'] == 'Burundi']"
   ]
  },
  {
   "cell_type": "markdown",
   "id": "5a1afe5c-c461-46db-96a7-e529f4835fa1",
   "metadata": {},
   "source": [
    "There is only one data point for Burundi, so the low amount of entries for this country is probably why linear regression is a bad model for this."
   ]
  },
  {
   "cell_type": "markdown",
   "id": "8d83cb59-aa5e-412e-b6cb-df8a38d1ac8e",
   "metadata": {},
   "source": [
    "After playing around with some different train test splits, I found a split that does not have this problem, and I will use it to construct a map of countries with the best and worst coffees."
   ]
  },
  {
   "cell_type": "code",
   "execution_count": 34,
   "id": "e85246d0-fcc5-42b0-b4a0-c201ddde2223",
   "metadata": {},
   "outputs": [
    {
     "data": {
      "text/plain": [
       "0.1213187593038626"
      ]
     },
     "execution_count": 34,
     "metadata": {},
     "output_type": "execute_result"
    }
   ],
   "source": [
    "train_features, test_features, train_labels, test_labels = train_test_split(features, labels, random_state = 11)\n",
    "\n",
    "lin_reg = LinearRegression().fit(train_features, train_labels)\n",
    "lin_reg.score(test_features, test_labels)"
   ]
  },
  {
   "cell_type": "code",
   "execution_count": 35,
   "id": "557b2184-09e7-4d9a-b4a0-dc2b3121d255",
   "metadata": {},
   "outputs": [
    {
     "data": {
      "text/plain": [
       "0.29714424590457955"
      ]
     },
     "execution_count": 35,
     "metadata": {},
     "output_type": "execute_result"
    }
   ],
   "source": [
    "lin_reg.score(train_features, train_labels)"
   ]
  },
  {
   "cell_type": "markdown",
   "id": "0967b6cd-5a4c-49c6-9826-144c0bcba1ff",
   "metadata": {},
   "source": [
    "The coefficient of determination for the test data is only 12%, which is very low. For the training data it is 30%, which is still pretty low, but considerably larger than the test data, which indicates that the training data is being overfit to linear regression."
   ]
  },
  {
   "cell_type": "markdown",
   "id": "27b16c11-8634-4d39-9ecf-cd73dc863207",
   "metadata": {},
   "source": [
    "The following code creates a map of the linear regression scores of the countries using this linear regression model."
   ]
  },
  {
   "cell_type": "code",
   "execution_count": 36,
   "id": "7da2cd15-e4de-4b94-b400-04a2257a42b2",
   "metadata": {},
   "outputs": [
    {
     "data": {
      "text/plain": [
       "<AxesSubplot:title={'center':'Countries Ranked by Coffee Quality'}>"
      ]
     },
     "execution_count": 36,
     "metadata": {},
     "output_type": "execute_result"
    },
    {
     "data": {
      "image/png": "[encoded data removed]",
      "text/plain": [
       "<Figure size 100x1000 with 2 Axes>"
      ]
     },
     "metadata": {},
     "output_type": "display_data"
    }
   ],
   "source": [
    "countries = data['Country.of.Origin'].unique()\n",
    "countries.sort()\n",
    "\n",
    "list_countries = pd.DataFrame()\n",
    "list_countries['Country.of.Origin'] = countries\n",
    "\n",
    "list_countries = pd.get_dummies(list_countries)\n",
    "\n",
    "predictions = lin_reg.predict(list_countries)\n",
    "\n",
    "table_predict = pd.DataFrame(predictions, columns = ['Taste Score'], index = countries)\n",
    "table_predict = table_predict.sort_values(['Taste Score'], ascending = False)\n",
    "\n",
    "\n",
    "plt.figure(figsize = (1,10))\n",
    "plt.title(\"Countries Ranked by Coffee Quality\")\n",
    "\n",
    "sns.heatmap(table_predict, annot = True)"
   ]
  },
  {
   "cell_type": "markdown",
   "id": "19d8be30-fb01-46f0-9634-18a03f0861d0",
   "metadata": {},
   "source": [
    "## Conclusion"
   ]
  },
  {
   "cell_type": "markdown",
   "id": "bace421c-8528-4439-b7bf-d4164c64af00",
   "metadata": {},
   "source": [
    "I chose naive bayes since many of the inputs are categorical, and cannot be converted into continuous variables for accurate predicting with regression models. The taste score was converted into binary categories, good and bad, to turn it into a classification problem. However, even when the model was improved by removing variables that were dependent on eachother (since naive bayes assumes independence between the variables), and finding out that the country of origin correlates the most with the total taste score, the accuracy of the model was only 70%, which is only marginally better than guessing (58%).\n",
    "\n",
    "Even though I knew linear regression would cause many problems, I wanted to see which countries would be considered the best and worst and also compare it to the naive bayes model. There were problems with fitting with the data, which made the model basically unusuable, and even when it was artificially selected in such a way that it does not generate the same problems, the coefficient of determiniation was pretty low and the model was overfit. "
   ]
  }
 ],
 "metadata": {
  "kernelspec": {
   "display_name": "Python 3.9.13 ('base')",
   "language": "python",
   "name": "python3"
  },
  "language_info": {
   "codemirror_mode": {
    "name": "ipython",
    "version": 3
   },
   "file_extension": ".py",
   "mimetype": "text/x-python",
   "name": "python",
   "nbconvert_exporter": "python",
   "pygments_lexer": "ipython3",
   "version": "3.9.13"
  },
  "vscode": {
   "interpreter": {
    "hash": "dd95e45412472049bed49e859478c9c85de0b9652afb4264ac12a94da57b27a5"
   }
  }
 },
 "nbformat": 4,
 "nbformat_minor": 5
}
